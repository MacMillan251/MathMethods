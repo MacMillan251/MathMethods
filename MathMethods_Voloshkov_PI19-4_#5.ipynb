{
 "cells": [
  {
   "cell_type": "markdown",
   "id": "4dcb637c",
   "metadata": {},
   "source": [
    "<h3>Задание 5. Линейное программирование. Графический метод</h3><br>Вариант 6"
   ]
  },
  {
   "cell_type": "code",
   "execution_count": 1,
   "id": "aa546e2c",
   "metadata": {},
   "outputs": [],
   "source": [
    "import numpy as np\n",
    "from scipy.optimize import minimize, LinearConstraint, Bounds\n",
    "import sympy as sym\n",
    "import matplotlib.pyplot as plt"
   ]
  },
  {
   "cell_type": "code",
   "execution_count": 2,
   "id": "85d97cd1",
   "metadata": {},
   "outputs": [],
   "source": [
    "a = -0.25\n",
    "b = 10\n",
    "c = 2"
   ]
  },
  {
   "cell_type": "code",
   "execution_count": 3,
   "id": "1562fae8",
   "metadata": {},
   "outputs": [],
   "source": [
    "def f(xy):\n",
    "    x, y = xy\n",
    "    return -(x + a * y)\n",
    "\n",
    "def gr(xy):\n",
    "    x, y = xy\n",
    "    \n",
    "    der = np.zeros_like(xy)\n",
    "    der[0] = -1\n",
    "    der[1] = -a\n",
    "    \n",
    "    return der"
   ]
  },
  {
   "cell_type": "code",
   "execution_count": 4,
   "id": "afd4dbdd",
   "metadata": {},
   "outputs": [
    {
     "name": "stdout",
     "output_type": "stream",
     "text": [
      "Optimization terminated successfully    (Exit mode 0)\n",
      "            Current function value: -8.750000000000243\n",
      "            Iterations: 5\n",
      "            Function evaluations: 5\n",
      "            Gradient evaluations: 5\n",
      "[ 8. -3.]\n"
     ]
    }
   ],
   "source": [
    "#Вводим ограничения\n",
    "linear_constraints = [LinearConstraint([1, 2], -np.inf, 10),\n",
    "                      LinearConstraint([3, 2], -np.inf, 18),\n",
    "                      LinearConstraint([1, -1], -b, np.inf),\n",
    "                      LinearConstraint([c, -1], -np.inf, 8*c + 3)]\n",
    "x0 = np.array([1.0, 1.0])\n",
    "res = minimize(f, x0, jac=gr, constraints=linear_constraints, options={'disp': True})\n",
    "\n",
    "u = res.x[0]\n",
    "v = res.x[1]\n",
    "F_max = -res.fun\n",
    "print(res.x)"
   ]
  },
  {
   "cell_type": "code",
   "execution_count": 5,
   "id": "0a76175c",
   "metadata": {},
   "outputs": [
    {
     "name": "stdout",
     "output_type": "stream",
     "text": [
      "Оптимальные значения: x = 8.0, y = -3.0\n",
      "Max значение функции: 8.75\n"
     ]
    }
   ],
   "source": [
    "print(f'Оптимальные значения: x = {u.round(3)}, y = {v.round(3)}')\n",
    "print('Max значение функции:',F_max.round(3))"
   ]
  },
  {
   "cell_type": "code",
   "execution_count": 6,
   "id": "5066e175",
   "metadata": {},
   "outputs": [
    {
     "data": {
      "image/png": "[encoded data removed]",
      "text/plain": [
       "<Figure size 432x288 with 1 Axes>"
      ]
     },
     "metadata": {
      "needs_background": "light"
     },
     "output_type": "display_data"
    }
   ],
   "source": [
    "#графическое решение\n",
    "\n",
    "d = np.linspace(-20,20,300)\n",
    "x,y = np.meshgrid(d,d)\n",
    "\n",
    "plt.imshow( ((2*y<=10-x) & (2*y<=18-3*x) & (y<=x+b) & (y>=c*x-8*c-3)).astype(int), \n",
    "                extent=(x.min(),x.max(),y.min(),y.max()),origin=\"lower\",\n",
    "                cmap=\"Greys\", alpha = 0.3);\n",
    "\n",
    "x = np.linspace(-20, 20, 2000)\n",
    "\n",
    "#ограничения D\n",
    "y1 = (10-x)/2.0 \n",
    "y2 = (18-3*x)/2.0\n",
    "y3 = x + b\n",
    "y4 = c*x - 8*c - 3\n",
    "\n",
    "# y = F(x, y)/a - x/a\n",
    "y5 = F_max/a - x/a\n",
    "y6 = 4/a - x/a\n",
    "\n",
    "plt.plot(x, y1, label=r'$2y\\leq 10-x$')\n",
    "plt.plot(x, y2, label=r'$2y\\leq 18-3x$')\n",
    "plt.plot(x, y3, label=fr'$y\\leq x + {b}$')\n",
    "plt.plot(x, y4, label=fr'$y\\geq {c}(x-8)-3$')\n",
    "\n",
    "plt.plot(x, y5, label=f'F={F_max.round(3)}')\n",
    "plt.plot(x, y6, label='F=4')\n",
    "\n",
    "plt.xlim(-20,20)\n",
    "plt.ylim(-10,10)\n",
    "\n",
    "plt.plot(u, v, 'ko')\n",
    "plt.text(u + 1, v + 1, f'M*({u.round(3)}, {v.round(3)})')\n",
    "\n",
    "plt.legend(bbox_to_anchor=(1.05, 1), loc=2, borderaxespad=0.)\n",
    "plt.xlabel(r'$x$')\n",
    "plt.ylabel(r'$y$')\n",
    "\n",
    "plt.show()"
   ]
  },
  {
   "cell_type": "markdown",
   "id": "55d5947a",
   "metadata": {},
   "source": [
    "Ответ: M* = (8, 3) F max = 8.75"
   ]
  }
 ],
 "metadata": {
  "interpreter": {
   "hash": "95825280d46be1c77c50240cbdd62d49105ab763506cd079c14e5b5bcade1105"
  },
  "kernelspec": {
   "display_name": "Python 3 (ipykernel)",
   "language": "python",
   "name": "python3"
  },
  "language_info": {
   "codemirror_mode": {
    "name": "ipython",
    "version": 3
   },
   "file_extension": ".py",
   "mimetype": "text/x-python",
   "name": "python",
   "nbconvert_exporter": "python",
   "pygments_lexer": "ipython3",
   "version": "3.9.7"
  }
 },
 "nbformat": 4,
 "nbformat_minor": 5
}
