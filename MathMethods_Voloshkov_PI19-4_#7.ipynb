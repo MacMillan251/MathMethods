{
 "cells": [
  {
   "cell_type": "markdown",
   "id": "627ca24d",
   "metadata": {},
   "source": [
    "<h3>Задание 7. Транспортная задача</h3><br>Вариант 6"
   ]
  },
  {
   "cell_type": "code",
   "execution_count": 1,
   "id": "55eda7aa",
   "metadata": {},
   "outputs": [],
   "source": [
    "import numpy as np\n",
    "import pandas as pd\n",
    "from scipy.optimize import Bounds, linprog\n",
    "np.set_printoptions(suppress=True)"
   ]
  },
  {
   "cell_type": "code",
   "execution_count": 2,
   "id": "6cfdb12c",
   "metadata": {
    "scrolled": true
   },
   "outputs": [],
   "source": [
    "A = np.array([270, 340, 290])\n",
    "B = np.array([140, 80, 240, 310, 120])\n",
    "C = np.array([[9, 14, 6, 5, 4],\n",
    "              [13, 15, 12, 3, 7],\n",
    "              [17, 10, 11, 8, 27]])"
   ]
  },
  {
   "cell_type": "code",
   "execution_count": 3,
   "id": "27843ed2",
   "metadata": {},
   "outputs": [],
   "source": [
    "N = len(A)\n",
    "M = len(B)"
   ]
  },
  {
   "cell_type": "code",
   "execution_count": 4,
   "id": "e0a9c5e6",
   "metadata": {},
   "outputs": [
    {
     "data": {
      "text/html": [
       "<div>\n",
       "<style scoped>\n",
       "    .dataframe tbody tr th:only-of-type {\n",
       "        vertical-align: middle;\n",
       "    }\n",
       "\n",
       "    .dataframe tbody tr th {\n",
       "        vertical-align: top;\n",
       "    }\n",
       "\n",
       "    .dataframe thead th {\n",
       "        text-align: right;\n",
       "    }\n",
       "</style>\n",
       "<table border=\"1\" class=\"dataframe\">\n",
       "  <thead>\n",
       "    <tr style=\"text-align: right;\">\n",
       "      <th>Ai \\ Bj</th>\n",
       "      <th>140</th>\n",
       "      <th>80</th>\n",
       "      <th>240</th>\n",
       "      <th>310</th>\n",
       "      <th>120</th>\n",
       "    </tr>\n",
       "  </thead>\n",
       "  <tbody>\n",
       "    <tr>\n",
       "      <th>270</th>\n",
       "      <td>9</td>\n",
       "      <td>14</td>\n",
       "      <td>6</td>\n",
       "      <td>5</td>\n",
       "      <td>4</td>\n",
       "    </tr>\n",
       "    <tr>\n",
       "      <th>340</th>\n",
       "      <td>13</td>\n",
       "      <td>15</td>\n",
       "      <td>12</td>\n",
       "      <td>3</td>\n",
       "      <td>7</td>\n",
       "    </tr>\n",
       "    <tr>\n",
       "      <th>290</th>\n",
       "      <td>17</td>\n",
       "      <td>10</td>\n",
       "      <td>11</td>\n",
       "      <td>8</td>\n",
       "      <td>27</td>\n",
       "    </tr>\n",
       "  </tbody>\n",
       "</table>\n",
       "</div>"
      ],
      "text/plain": [
       "Ai \\ Bj  140  80   240  310  120\n",
       "270        9   14    6    5    4\n",
       "340       13   15   12    3    7\n",
       "290       17   10   11    8   27"
      ]
     },
     "execution_count": 4,
     "metadata": {},
     "output_type": "execute_result"
    }
   ],
   "source": [
    "df = pd.DataFrame(C, columns=B, index=A)\n",
    "df.columns.name = 'Ai \\\\ Bj'\n",
    "df"
   ]
  },
  {
   "cell_type": "markdown",
   "id": "42e27a16",
   "metadata": {},
   "source": [
    "Допустимый план перевозки груза методом минимальной стоимости"
   ]
  },
  {
   "cell_type": "code",
   "execution_count": 5,
   "id": "bc022b12",
   "metadata": {},
   "outputs": [
    {
     "name": "stdout",
     "output_type": "stream",
     "text": [
      "Опорный план является невырожденным\n",
      "Полученный план перевозки груза:\n",
      " [[  0   0 150   0 120]\n",
      " [ 30   0   0 310   0]\n",
      " [-30  80  90   0   0]]\n",
      "Значение целевой функции для этого опорного плана F = 3980\n"
     ]
    }
   ],
   "source": [
    "P = np.zeros_like(C)\n",
    "INF = 1_000_000_007\n",
    "C_ = C.copy()\n",
    "A_ = A.copy()\n",
    "B_ = B.copy()\n",
    "i = 0\n",
    "j = 0\n",
    "while not np.all(C_ == INF):\n",
    "    i, j = np.unravel_index(C_.argmin(), C_.shape)\n",
    "    P[i][j] = min(A_[i], B_[j])\n",
    "    if A_[i] <= B_[j]:\n",
    "        C_[i].fill(INF)\n",
    "        B_[j] -= A_[i]\n",
    "        A_[i] = 0\n",
    "    else:\n",
    "        C_[:, j].fill(INF)\n",
    "        A_[i] -= B[j]\n",
    "        B_[j] = 0    \n",
    "if np.count_nonzero(P) == N + M - 1:\n",
    "    print('Опорный план невырожденный')\n",
    "else:\n",
    "    print('Опорный план вырожденный')\n",
    "\n",
    "F = 0\n",
    "for i in range(N):\n",
    "    for j in range(M):\n",
    "        F += C[i][j] * P[i][j]\n",
    "print('Полученный план перевозки груза:\\n', P)\n",
    "print('Значение целевой функции для этого опорного плана F =', F)"
   ]
  },
  {
   "cell_type": "markdown",
   "id": "093a5414",
   "metadata": {},
   "source": [
    "Оптимальный план перевозки груза"
   ]
  },
  {
   "cell_type": "code",
   "execution_count": 6,
   "id": "69e4099b",
   "metadata": {},
   "outputs": [
    {
     "name": "stdout",
     "output_type": "stream",
     "text": [
      "Primal Feasibility  Dual Feasibility    Duality Gap         Step             Path Parameter      Objective          \n",
      "1.0                 1.0                 1.0                 -                1.0                 161.0               \n",
      "0.1530082820257     0.1530082820257     0.1530082820257     0.8574814989773  0.1530082820257     803.5612438597      \n",
      "0.1025126388982     0.1025126388982     0.1025126388982     0.3409116690241  0.1025126388983     1069.173735039      \n",
      "0.0627623608946     0.0627623608946     0.06276236089461    0.4286785279633  0.06276236089464    1713.456845614      \n",
      "0.01088668887341    0.0108866888735     0.01088668887351    0.8477308844445  0.01088668887315    3955.597336498      \n",
      "0.008190541471482   0.008190541471552   0.008190541471553   0.2742268794766  0.008190541471287   4381.68860077       \n",
      "0.001359295752282   0.001359295752316   0.001359295752316   0.8359114056213  0.001359295752357   5659.720138877      \n",
      "1.811248636616e-05  1.811248636663e-05  1.811248636673e-05  1.0              1.811248636665e-05  5995.037540583      \n",
      "9.65446752438e-10   9.654468245468e-10  9.65446696525e-10   0.9999466997036  9.654473912874e-10  5999.99973564       \n",
      "Optimization terminated successfully.\n",
      "         Current function value: 5999.999736 \n",
      "         Iterations: 8\n"
     ]
    }
   ],
   "source": [
    "A_ub = np.array([[1 if i in range(j*M, M*(j+1)) else 0 for i in range(N*M)] for j in range(N)])\n",
    "b_ub = A\n",
    "b_eq = B\n",
    "A_eq = np.array([[1 if i % M == j else 0 for i in range(N*M)] for j in range(M)])\n",
    "\n",
    "res = linprog(C.flatten(), A_ub, b_ub, A_eq, b_eq, options={'disp': True})\n",
    "\n",
    "X = res.x.round(3).reshape(N, M)\n",
    "F_min = res.fun.round(3)"
   ]
  },
  {
   "cell_type": "code",
   "execution_count": 7,
   "id": "80e6e85a",
   "metadata": {},
   "outputs": [
    {
     "name": "stdout",
     "output_type": "stream",
     "text": [
      "Оптимальный план перевозки груза X*:\n",
      " [[140.   0.  40.   0.  90.]\n",
      " [  0.   0.   0. 310.  30.]\n",
      " [  0.  80. 200.   0.   0.]]\n",
      "Оптимальная стоимость перевозки:\n",
      "F_min = F(X*) = 6000.0\n"
     ]
    }
   ],
   "source": [
    "print('Оптимальный план перевозки груза X*:\\n', X)\n",
    "print('Оптимальная стоимость перевозки:\\nF_min = F(X*) =', F_min)"
   ]
  }
 ],
 "metadata": {
  "kernelspec": {
   "display_name": "Python 3 (ipykernel)",
   "language": "python",
   "name": "python3"
  },
  "language_info": {
   "codemirror_mode": {
    "name": "ipython",
    "version": 3
   },
   "file_extension": ".py",
   "mimetype": "text/x-python",
   "name": "python",
   "nbconvert_exporter": "python",
   "pygments_lexer": "ipython3",
   "version": "3.9.7"
  }
 },
 "nbformat": 4,
 "nbformat_minor": 5
}
