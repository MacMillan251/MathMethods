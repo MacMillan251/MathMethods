{
 "cells": [
  {
   "cell_type": "markdown",
   "id": "6f58d114",
   "metadata": {},
   "source": [
    "<h3>Задание 8. Задача теории игр.</h3><br>Вариант 6"
   ]
  },
  {
   "cell_type": "code",
   "execution_count": 1,
   "id": "3feb0a2c",
   "metadata": {},
   "outputs": [],
   "source": [
    "import numpy as np\n",
    "from gurobipy import *"
   ]
  },
  {
   "cell_type": "code",
   "execution_count": 2,
   "id": "fbf5186b",
   "metadata": {},
   "outputs": [],
   "source": [
    "A = np.array([[7, 3, 4],\n",
    "              [4, 6, 3],\n",
    "              [3, 4, 7]])"
   ]
  },
  {
   "cell_type": "code",
   "execution_count": 3,
   "id": "016ec849",
   "metadata": {},
   "outputs": [
    {
     "name": "stdout",
     "output_type": "stream",
     "text": [
      "Restricted license - for non-production use only - expires 2023-10-25\n",
      "Gurobi Optimizer version 9.5.1 build v9.5.1rc2 (win64)\n",
      "Thread count: 4 physical cores, 8 logical processors, using up to 8 threads\n",
      "Optimize a model with 3 rows, 3 columns and 9 nonzeros\n",
      "Model fingerprint: 0x6f891a3f\n",
      "Coefficient statistics:\n",
      "  Matrix range     [3e+00, 7e+00]\n",
      "  Objective range  [1e+00, 1e+00]\n",
      "  Bounds range     [0e+00, 0e+00]\n",
      "  RHS range        [1e+00, 1e+00]\n",
      "Presolve time: 0.00s\n",
      "Presolved: 3 rows, 3 columns, 9 nonzeros\n",
      "\n",
      "Iteration    Objective       Primal Inf.    Dual Inf.      Time\n",
      "       0    3.0000000e+30   5.125000e+30   3.000000e+00      0s\n",
      "       3    2.2068966e-01   0.000000e+00   0.000000e+00      0s\n",
      "\n",
      "Solved in 3 iterations and 0.01 seconds (0.00 work units)\n",
      "Optimal objective  2.206896552e-01\n"
     ]
    }
   ],
   "source": [
    "var_names = ['w1', 'w2', 'w3']                         \n",
    "profit = np.array([1, 1, 1]) # Коэффициенты в целевой функции\n",
    "\n",
    "n = len(profit)                                    \n",
    "m = len(A)                                 \n",
    "model = Model(\"Matr-Game\")\n",
    "w = model.addVars(n, name=var_names) # заводим переменные в модель\n",
    "obj = model.setObjective(quicksum(profit[j] * w[j] for j in range(n)), GRB.MAXIMIZE)\n",
    "con = []\n",
    "for i in range(m):\n",
    "    con.append(model.addConstr(quicksum(A[i, j] * w[j] for j in range(n)) <= 1, name=var_names[i])) #добавляем ограничения\n",
    "model.optimize()"
   ]
  },
  {
   "cell_type": "code",
   "execution_count": 4,
   "id": "e5f10afd",
   "metadata": {},
   "outputs": [
    {
     "name": "stdout",
     "output_type": "stream",
     "text": [
      "Оптимальная стратегия W = [0.06896551724137931, 0.08965517241379312, 0.06206896551724137] \n",
      "Оптимальное значение Fmax = 0.2206896551724138\n",
      "Заданные ограничения:\n",
      " [1.0, 1.0, 1.0]\n",
      "Реальный расход:\n",
      " [0.9999999999999999, 1.0, 1.0]\n",
      "Дефицит:\n",
      " [0.0, 0.0, 0.0]\n"
     ]
    }
   ],
   "source": [
    "W = model.X\n",
    "print(\"Оптимальная стратегия W =\", model.X, \n",
    "      \"\\nОптимальное значение Fmax =\", model.ObjVal) \n",
    "print('Заданные ограничения:\\n',model.RHS)\n",
    "print('Реальный расход:\\n', [quicksum(A[i, j] * w[j] for j in range(n)).getValue() for i in range(m)])\n",
    "print('Дефицит:\\n',model.Slack)"
   ]
  },
  {
   "cell_type": "code",
   "execution_count": 5,
   "id": "7912b423",
   "metadata": {},
   "outputs": [
    {
     "name": "stdout",
     "output_type": "stream",
     "text": [
      "\n",
      "    Variable            X          Obj     SAObjLow      SAObjUp \n",
      "----------------------------------------------------------------\n",
      "          w1    0.0689655            1          0.7      1.66667 \n",
      "          w2    0.0896552            1     0.648649      1.47368 \n",
      "          w3     0.062069            1     0.666667      1.68421 \n"
     ]
    }
   ],
   "source": [
    "#оценка устойчивости коэффициентов целевой функции\n",
    "model.printAttr(['X', 'Obj', 'SAObjLow', 'SAObjUp'])"
   ]
  },
  {
   "cell_type": "code",
   "execution_count": 6,
   "id": "a81ee38f",
   "metadata": {},
   "outputs": [
    {
     "data": {
      "text/plain": [
       "([0.3125, 0.40625000000000006, 0.28124999999999994], 4.53125)"
      ]
     },
     "execution_count": 6,
     "metadata": {},
     "output_type": "execute_result"
    }
   ],
   "source": [
    "#Оптимальные стратегии 2 игрока и цена игры\n",
    "Y = [y/sum(W) for y in W]\n",
    "Nu_A = 1/sum(W)\n",
    "Y, Nu_A"
   ]
  },
  {
   "cell_type": "code",
   "execution_count": 7,
   "id": "57fa7d5a",
   "metadata": {},
   "outputs": [
    {
     "data": {
      "text/plain": [
       "[0.06206896551724138, 0.08965517241379309, 0.06896551724137932]"
      ]
     },
     "execution_count": 7,
     "metadata": {},
     "output_type": "execute_result"
    }
   ],
   "source": [
    "#Решение двойственной задачи\n",
    "U = model.Pi\n",
    "U"
   ]
  },
  {
   "cell_type": "code",
   "execution_count": 8,
   "id": "10035a2b",
   "metadata": {},
   "outputs": [
    {
     "data": {
      "text/plain": [
       "[0.28125, 0.40624999999999994, 0.31250000000000006]"
      ]
     },
     "execution_count": 8,
     "metadata": {},
     "output_type": "execute_result"
    }
   ],
   "source": [
    "#Оптимальные стратегии 1 игрока\n",
    "X = [u/sum(U) for u in U]\n",
    "X"
   ]
  },
  {
   "cell_type": "code",
   "execution_count": 9,
   "id": "c11eafa4",
   "metadata": {},
   "outputs": [
    {
     "name": "stdout",
     "output_type": "stream",
     "text": [
      "Ответ\n",
      "\n",
      "X∗ = [0.28125, 0.40624999999999994, 0.31250000000000006] – стратегия 1-го игрока,\n",
      "Y∗ = [0.3125, 0.40625000000000006, 0.28124999999999994] – стратегия 2-го игрока,\n",
      "νA = 4.53125 – цена игры.\n"
     ]
    }
   ],
   "source": [
    "print(f'Ответ\\n\\nX∗ = {X} – стратегия 1-го игрока,\\nY∗ = {Y} – стратегия 2-го игрока,\\nνA = {Nu_A} – цена игры.')"
   ]
  }
 ],
 "metadata": {
  "kernelspec": {
   "display_name": "Python 3 (ipykernel)",
   "language": "python",
   "name": "python3"
  },
  "language_info": {
   "codemirror_mode": {
    "name": "ipython",
    "version": 3
   },
   "file_extension": ".py",
   "mimetype": "text/x-python",
   "name": "python",
   "nbconvert_exporter": "python",
   "pygments_lexer": "ipython3",
   "version": "3.9.7"
  }
 },
 "nbformat": 4,
 "nbformat_minor": 5
}
