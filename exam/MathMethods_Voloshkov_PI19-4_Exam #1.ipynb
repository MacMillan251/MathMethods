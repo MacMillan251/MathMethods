{
 "cells": [
  {
   "cell_type": "markdown",
   "id": "627ca24d",
   "metadata": {},
   "source": [
    "<h3>Задание 1. Найти опорный план методом мин. тарифа, общую стоимость перевозок</h3><br>Билет 58"
   ]
  },
  {
   "cell_type": "code",
   "execution_count": 1,
   "id": "55eda7aa",
   "metadata": {},
   "outputs": [],
   "source": [
    "import numpy as np\n",
    "import pandas as pd\n",
    "from scipy.optimize import Bounds, linprog\n",
    "np.set_printoptions(suppress=True)"
   ]
  },
  {
   "cell_type": "code",
   "execution_count": 2,
   "id": "6cfdb12c",
   "metadata": {
    "scrolled": true
   },
   "outputs": [
    {
     "data": {
      "text/html": [
       "<div>\n",
       "<style scoped>\n",
       "    .dataframe tbody tr th:only-of-type {\n",
       "        vertical-align: middle;\n",
       "    }\n",
       "\n",
       "    .dataframe tbody tr th {\n",
       "        vertical-align: top;\n",
       "    }\n",
       "\n",
       "    .dataframe thead th {\n",
       "        text-align: right;\n",
       "    }\n",
       "</style>\n",
       "<table border=\"1\" class=\"dataframe\">\n",
       "  <thead>\n",
       "    <tr style=\"text-align: right;\">\n",
       "      <th>Ai \\ Bj</th>\n",
       "      <th>100</th>\n",
       "      <th>50</th>\n",
       "      <th>20</th>\n",
       "      <th>30</th>\n",
       "    </tr>\n",
       "  </thead>\n",
       "  <tbody>\n",
       "    <tr>\n",
       "      <th>100</th>\n",
       "      <td>12</td>\n",
       "      <td>5</td>\n",
       "      <td>11</td>\n",
       "      <td>6</td>\n",
       "    </tr>\n",
       "    <tr>\n",
       "      <th>110</th>\n",
       "      <td>11</td>\n",
       "      <td>15</td>\n",
       "      <td>21</td>\n",
       "      <td>10</td>\n",
       "    </tr>\n",
       "    <tr>\n",
       "      <th>40</th>\n",
       "      <td>13</td>\n",
       "      <td>15</td>\n",
       "      <td>15</td>\n",
       "      <td>11</td>\n",
       "    </tr>\n",
       "  </tbody>\n",
       "</table>\n",
       "</div>"
      ],
      "text/plain": [
       "Ai \\ Bj  100  50   20   30 \n",
       "100       12    5   11    6\n",
       "110       11   15   21   10\n",
       "40        13   15   15   11"
      ]
     },
     "execution_count": 2,
     "metadata": {},
     "output_type": "execute_result"
    }
   ],
   "source": [
    "A = np.array([100, 110, 40])\n",
    "B = np.array([100, 50, 20, 30])\n",
    "C = np.array([[12, 5, 11, 6],\n",
    "              [11, 15, 21, 10],\n",
    "              [13, 15, 15, 11]])\n",
    "\n",
    "N = len(A)\n",
    "M = len(B)\n",
    "\n",
    "df = pd.DataFrame(C, columns=B, index=A)\n",
    "df.columns.name = 'Ai \\\\ Bj'\n",
    "df"
   ]
  },
  {
   "cell_type": "markdown",
   "id": "42e27a16",
   "metadata": {},
   "source": [
    "Допустимый план перевозки груза методом минимальной стоимости"
   ]
  },
  {
   "cell_type": "code",
   "execution_count": 3,
   "id": "bc022b12",
   "metadata": {},
   "outputs": [
    {
     "name": "stdout",
     "output_type": "stream",
     "text": [
      "Опорный план вырожденный\n",
      "Полученный план перевозки груза:\n",
      " [[  0  50  20  30]\n",
      " [100   0   0   0]\n",
      " [  0   0   0   0]]\n",
      "Значение целевой функции для этого опорного плана F = 1750\n"
     ]
    }
   ],
   "source": [
    "P = np.zeros_like(C)\n",
    "INF = 1_000_000_007\n",
    "C_ = C.copy()\n",
    "A_ = A.copy()\n",
    "B_ = B.copy()\n",
    "i = 0\n",
    "j = 0\n",
    "while not np.all(C_ == INF):\n",
    "    i, j = np.unravel_index(C_.argmin(), C_.shape)\n",
    "    P[i][j] = min(A_[i], B_[j])\n",
    "    if A_[i] <= B_[j]:\n",
    "        C_[i].fill(INF)\n",
    "        B_[j] -= A_[i]\n",
    "        A_[i] = 0\n",
    "    else:\n",
    "        C_[:, j].fill(INF)\n",
    "        A_[i] -= B[j]\n",
    "        B_[j] = 0    \n",
    "if np.count_nonzero(P) == N + M - 1:\n",
    "    print('Опорный план невырожденный')\n",
    "else:\n",
    "    print('Опорный план вырожденный')\n",
    "\n",
    "F = 0\n",
    "for i in range(N):\n",
    "    for j in range(M):\n",
    "        F += C[i][j] * P[i][j]\n",
    "print('Полученный план перевозки груза:\\n', P)\n",
    "print('Значение целевой функции для этого опорного плана F =', F)"
   ]
  },
  {
   "cell_type": "markdown",
   "id": "093a5414",
   "metadata": {},
   "source": [
    "Оптимальный план перевозки груза"
   ]
  },
  {
   "cell_type": "code",
   "execution_count": 4,
   "id": "69e4099b",
   "metadata": {},
   "outputs": [
    {
     "name": "stdout",
     "output_type": "stream",
     "text": [
      "Primal Feasibility  Dual Feasibility    Duality Gap         Step             Path Parameter      Objective          \n",
      "1.0                 1.0                 1.0                 -                1.0                 145.0               \n",
      "0.2301046258201     0.2301046258201     0.2301046258201     0.783390459773   0.2301046258201     428.9964070985      \n",
      "0.05984632167826    0.05984632167825    0.05984632167825    0.768803924024   0.05984632167828    970.047433581       \n",
      "0.009056379799842   0.009056379799845   0.009056379799845   0.8755218620065  0.009056379799847   1528.194040229      \n",
      "0.0001558297302771  0.0001558297302773  0.0001558297302773  0.9832033798974  0.0001558297302764  1745.673329304      \n",
      "8.009899099223e-09  8.009899166247e-09  8.009899203574e-09  0.9999486166139  8.009899371862e-09  1749.999776749      \n",
      "Optimization terminated successfully.\n",
      "         Current function value: 1749.999777 \n",
      "         Iterations: 5\n"
     ]
    }
   ],
   "source": [
    "A_ub = np.array([[1 if i in range(j*M, M*(j+1)) else 0 for i in range(N*M)] for j in range(N)])\n",
    "b_ub = A\n",
    "b_eq = B\n",
    "A_eq = np.array([[1 if i % M == j else 0 for i in range(N*M)] for j in range(M)])\n",
    "\n",
    "res = linprog(C.flatten(), A_ub, b_ub, A_eq, b_eq, options={'disp': True})\n",
    "\n",
    "X = res.x.round(3).reshape(N, M)\n",
    "F_min = res.fun.round(3)"
   ]
  },
  {
   "cell_type": "code",
   "execution_count": 5,
   "id": "80e6e85a",
   "metadata": {},
   "outputs": [
    {
     "name": "stdout",
     "output_type": "stream",
     "text": [
      "Оптимальный план перевозки груза X*:\n",
      " [[  0.  50.  20.  30.]\n",
      " [100.   0.   0.   0.]\n",
      " [  0.   0.   0.   0.]]\n",
      "Общая стоимость перевозки:\n",
      "F_min = F(X*) = 1750.0\n"
     ]
    }
   ],
   "source": [
    "print('Оптимальный план перевозки груза X*:\\n', X)\n",
    "print('Общая стоимость перевозки:\\nF_min = F(X*) =', F_min)"
   ]
  }
 ],
 "metadata": {
  "kernelspec": {
   "display_name": "Python 3 (ipykernel)",
   "language": "python",
   "name": "python3"
  },
  "language_info": {
   "codemirror_mode": {
    "name": "ipython",
    "version": 3
   },
   "file_extension": ".py",
   "mimetype": "text/x-python",
   "name": "python",
   "nbconvert_exporter": "python",
   "pygments_lexer": "ipython3",
   "version": "3.9.7"
  }
 },
 "nbformat": 4,
 "nbformat_minor": 5
}
