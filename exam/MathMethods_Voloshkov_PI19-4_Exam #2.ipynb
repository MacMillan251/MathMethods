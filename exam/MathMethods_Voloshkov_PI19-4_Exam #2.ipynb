{
 "cells": [
  {
   "cell_type": "markdown",
   "id": "6f58d114",
   "metadata": {},
   "source": [
    "<h3>Задание 2. Найти решение в игре с природой</h3><br>Билет 58"
   ]
  },
  {
   "cell_type": "code",
   "execution_count": 1,
   "id": "3feb0a2c",
   "metadata": {},
   "outputs": [],
   "source": [
    "import numpy as np\n",
    "from gurobipy import *"
   ]
  },
  {
   "cell_type": "code",
   "execution_count": 2,
   "id": "fbf5186b",
   "metadata": {},
   "outputs": [],
   "source": [
    "A = np.array([[12, 10, 9, 11],\n",
    "              [14, 6, 5, 8],\n",
    "              [12, 8, 8, 4],\n",
    "              [10, 5, 9, 7],\n",
    "              [7, 10, 9, 11],])"
   ]
  },
  {
   "cell_type": "code",
   "execution_count": 3,
   "id": "016ec849",
   "metadata": {},
   "outputs": [
    {
     "name": "stdout",
     "output_type": "stream",
     "text": [
      "Restricted license - for non-production use only - expires 2023-10-25\n",
      "Gurobi Optimizer version 9.5.1 build v9.5.1rc2 (win64)\n",
      "Thread count: 4 physical cores, 8 logical processors, using up to 8 threads\n",
      "Optimize a model with 5 rows, 4 columns and 20 nonzeros\n",
      "Model fingerprint: 0x30aaf8aa\n",
      "Coefficient statistics:\n",
      "  Matrix range     [4e+00, 1e+01]\n",
      "  Objective range  [1e+00, 1e+00]\n",
      "  Bounds range     [0e+00, 0e+00]\n",
      "  RHS range        [1e+00, 1e+00]\n",
      "Presolve time: 0.00s\n",
      "Presolved: 5 rows, 4 columns, 20 nonzeros\n",
      "\n",
      "Iteration    Objective       Primal Inf.    Dual Inf.      Time\n",
      "       0    4.0000000e+30   2.187500e+31   4.000000e+00      0s\n",
      "       1    1.1111111e-01   0.000000e+00   0.000000e+00      0s\n",
      "\n",
      "Solved in 1 iterations and 0.01 seconds (0.00 work units)\n",
      "Optimal objective  1.111111111e-01\n"
     ]
    }
   ],
   "source": [
    "var_names = ['w1', 'w2', 'w3', 'w4', 'w5']                         \n",
    "var_names2 = ['w1', 'w2', 'w3', 'w4'] \n",
    "profit = np.array([1, 1, 1, 1]) # Коэффициенты в целевой функции\n",
    "\n",
    "n = len(profit)                                    \n",
    "m = len(A)                                 \n",
    "model = Model(\"Matr-Game\")\n",
    "w = model.addVars(n, name=var_names2) # заводим переменные в модель\n",
    "obj = model.setObjective(quicksum(profit[j] * w[j] for j in range(n)), GRB.MAXIMIZE)\n",
    "con = []\n",
    "for i in range(m):\n",
    "    con.append(model.addConstr(quicksum(A[i, j] * w[j] for j in range(n)) <= 1, name=var_names[i])) #добавляем ограничения\n",
    "model.optimize()"
   ]
  },
  {
   "cell_type": "code",
   "execution_count": 4,
   "id": "e5f10afd",
   "metadata": {},
   "outputs": [
    {
     "name": "stdout",
     "output_type": "stream",
     "text": [
      "Оптимальная стратегия W = [0.0, 0.0, 0.1111111111111111, 0.0] \n",
      "Оптимальное значение Fmax = 0.1111111111111111\n",
      "Заданные ограничения:\n",
      " [1.0, 1.0, 1.0, 1.0, 1.0]\n",
      "Реальный расход:\n",
      " [1.0, 0.5555555555555556, 0.8888888888888888, 1.0, 1.0]\n",
      "Дефицит:\n",
      " [0.0, 0.4444444444444444, 0.11111111111111116, 0.0, 0.0]\n"
     ]
    }
   ],
   "source": [
    "W = model.X\n",
    "print(\"Оптимальная стратегия W =\", model.X, \n",
    "      \"\\nОптимальное значение Fmax =\", model.ObjVal) \n",
    "print('Заданные ограничения:\\n',model.RHS)\n",
    "print('Реальный расход:\\n', [quicksum(A[i, j] * w[j] for j in range(n)).getValue() for i in range(m)])\n",
    "print('Дефицит:\\n',model.Slack)"
   ]
  },
  {
   "cell_type": "code",
   "execution_count": 5,
   "id": "7912b423",
   "metadata": {},
   "outputs": [
    {
     "name": "stdout",
     "output_type": "stream",
     "text": [
      "\n",
      "    Variable            X          Obj     SAObjLow      SAObjUp \n",
      "----------------------------------------------------------------\n",
      "          w1            0            1         -inf      1.33333 \n",
      "          w2            0            1         -inf      1.11111 \n",
      "          w3     0.111111            1          0.9          inf \n",
      "          w4            0            1         -inf      1.22222 \n"
     ]
    }
   ],
   "source": [
    "#оценка устойчивости коэффициентов целевой функции\n",
    "model.printAttr(['X', 'Obj', 'SAObjLow', 'SAObjUp'])"
   ]
  },
  {
   "cell_type": "code",
   "execution_count": 6,
   "id": "a81ee38f",
   "metadata": {},
   "outputs": [
    {
     "data": {
      "text/plain": [
       "9.0"
      ]
     },
     "execution_count": 6,
     "metadata": {},
     "output_type": "execute_result"
    }
   ],
   "source": [
    "#цена игры\n",
    "Nu_A = 1/sum(W)\n",
    "Nu_A"
   ]
  },
  {
   "cell_type": "code",
   "execution_count": 7,
   "id": "10035a2b",
   "metadata": {},
   "outputs": [
    {
     "data": {
      "text/plain": [
       "[1.0, 0.0, 0.0, 0.0, 0.0]"
      ]
     },
     "execution_count": 7,
     "metadata": {},
     "output_type": "execute_result"
    }
   ],
   "source": [
    "#Оптимальная стратегия\n",
    "U = model.Pi\n",
    "X = [u/sum(U) for u in U]\n",
    "X"
   ]
  },
  {
   "cell_type": "code",
   "execution_count": 8,
   "id": "c11eafa4",
   "metadata": {},
   "outputs": [
    {
     "name": "stdout",
     "output_type": "stream",
     "text": [
      "Ответ\n",
      "\n",
      "X∗ = [1.0, 0.0, 0.0, 0.0, 0.0] – стратегия игрока\n",
      "νA = 9.0 – цена игры.\n"
     ]
    }
   ],
   "source": [
    "#,\\nY∗ = {Y} – стратегия 2-го игрока,\n",
    "print(f'Ответ\\n\\nX∗ = {X} – стратегия игрока\\nνA = {Nu_A} – цена игры.')"
   ]
  }
 ],
 "metadata": {
  "kernelspec": {
   "display_name": "Python 3 (ipykernel)",
   "language": "python",
   "name": "python3"
  },
  "language_info": {
   "codemirror_mode": {
    "name": "ipython",
    "version": 3
   },
   "file_extension": ".py",
   "mimetype": "text/x-python",
   "name": "python",
   "nbconvert_exporter": "python",
   "pygments_lexer": "ipython3",
   "version": "3.9.7"
  }
 },
 "nbformat": 4,
 "nbformat_minor": 5
}
